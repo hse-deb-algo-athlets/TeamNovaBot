{
 "cells": [
  {
   "cell_type": "code",
   "execution_count": 11,
   "metadata": {},
   "outputs": [],
   "source": [
    "import ollama\n",
    "import requests\n",
    "import json\n",
    "import pandas"
   ]
  },
  {
   "cell_type": "code",
   "execution_count": 6,
   "metadata": {},
   "outputs": [],
   "source": [
    "model = \"llama3.2:1b\""
   ]
  },
  {
   "cell_type": "markdown",
   "metadata": {},
   "source": [
    "#### Task 1: Interact with deployed LLM via python \n",
    "\n",
    "\n",
    "**Objective:**\n",
    "\n",
    "Explore different techniques to interact with the deployed LLM.\n",
    "\n",
    "**Task Description:**\n",
    "\n",
    "1. Use Request libaray (HTTP Client) and send a POST request to interact with the LLM: [How To](https://requests.readthedocs.io/en/latest/user/quickstart/#make-a-request)"
   ]
  },
  {
   "cell_type": "code",
   "execution_count": 7,
   "metadata": {},
   "outputs": [
    {
     "name": "stdout",
     "output_type": "stream",
     "text": [
      "Generative AI refers to a class of machine learning models that can create new, original content, such as images, music, text, and videos, by generating variations of existing data or patterns. Unlike traditional machine learning models that learn from data to make predictions, generative AI models use algorithms to generate new outputs based on the inputs they receive, allowing for the creation of novel and often unexpected results."
     ]
    }
   ],
   "source": [
    "# Simple HTTP Request via requests\n",
    "\n",
    "# Define the URL of the deployed LLM ( this port is forwarded from the docker container to the host system)\n",
    "url = \"http://localhost:11434/api/generate\"\n",
    "\n",
    "# Define the prompt\n",
    "body = {\n",
    "    \"model\": model,\n",
    "    \"prompt\": \"Describe Generative AI in two sentences.\"\n",
    "}\n",
    "\n",
    "# ADD HERE YOUR CODE\n",
    "# Send the POST request\n",
    "response = requests.post(url = url, json = body)\n",
    "\n",
    "# Check if the request was successful\n",
    "if response.status_code== 200:\n",
    "    # Process the response\n",
    "    response_text = response.text\n",
    "\n",
    "    # Convert each line to json\n",
    "    response_lines = response_text.splitlines()\n",
    "    response_json = [json.loads(line) for line in response_lines]\n",
    "    for line in response_json:\n",
    "        # Print the response. No line break\n",
    "        print(line[\"response\"], end=\"\")\n",
    "else:\n",
    "    print(\"Error:\", response.status_code)\n"
   ]
  },
  {
   "cell_type": "markdown",
   "metadata": {},
   "source": [
    "**Task Description:**\n",
    "\n",
    "2. Use Ollama python library to interact with the LLM: [How To](https://pypi.org/project/ollama/)\n",
    "\n",
    "- First use method ``ollama.chat(...)``\n",
    "- First use method ``ollama.chat(...)`` with ``stream=True``"
   ]
  },
  {
   "cell_type": "code",
   "execution_count": 13,
   "metadata": {},
   "outputs": [
    {
     "name": "stdout",
     "output_type": "stream",
     "text": [
      "The sky appears blue to us because of a phenomenon called Rayleigh scattering, named after the British physicist Lord Rayleigh who first described it in the late 19th century. Here's a simplified explanation:\n",
      "\n",
      "When sunlight enters Earth's atmosphere, it encounters tiny molecules of gases such as nitrogen (N2) and oxygen (O2). These molecules are much smaller than the wavelength of light, so they scatter the shorter wavelengths of light, like blue and violet, more than the longer wavelengths, like red and orange.\n",
      "\n",
      "This is because the smaller molecules are excited by the energy from the sun's rays and then release this energy as they return to their ground state. As a result, the scattered light is distributed in all directions, giving the sky its blue color.\n",
      "\n",
      "The shorter wavelengths of light are also more affected by the atmosphere's composition and temperature. The atmospheric pressure and temperature gradients create variations in air density, which in turn affect the amount of scattering that occurs. However, Rayleigh scattering is the dominant process that determines the apparent color of the sky.\n",
      "\n",
      "It's worth noting that during sunrise and sunset, the angle of incidence is such that the sun's rays have to travel through more of the atmosphere, causing the light to be scattered in all directions. This is why the sky often appears more red or orange during these times.\n",
      "\n",
      "So, to summarize, the sky appears blue because of the scattering of sunlight by tiny molecules in the Earth's atmosphere, with shorter wavelengths like blue and violet being scattered more than longer wavelengths like red and orange.\n"
     ]
    }
   ],
   "source": [
    "# API Call via ollama\n",
    "\n",
    "# ADD HERE YOUR CODE\n",
    "\n",
    "response = ollama.chat(model = model, messages = [{\n",
    "    'role': 'user', \n",
    "    'content': 'Why is the sky blue?'\n",
    "    }])\n",
    "\n",
    "\n",
    "print(response[\"message\"][\"content\"])"
   ]
  },
  {
   "cell_type": "code",
   "execution_count": 10,
   "metadata": {},
   "outputs": [
    {
     "name": "stdout",
     "output_type": "stream",
     "text": [
      "The sky appears blue because of a phenomenon called Rayleigh scattering, named after the British physicist Lord Rayleigh, who first described it in the late 19th century. Here's what happens:\n",
      "\n",
      "When sunlight enters Earth's atmosphere, it encounters tiny molecules of gases such as nitrogen and oxygen. These molecules scatter the light in all directions, but they scatter shorter (blue) wavelengths more than longer (red) wavelengths. This is because the smaller particles are more effective at scattering the blue light.\n",
      "\n",
      "As a result, the blue light is distributed throughout the atmosphere, giving it a blue appearance from space. The color of the sky can vary depending on the time of day, atmospheric conditions, and pollution levels, but in general, the sky appears blue during the daytime when the sun is overhead.\n",
      "\n",
      "It's worth noting that the Earth's atmosphere does not appear blue at sunrise and sunset due to the scattering of light by atmospheric particles. This is why the sky can take on a reddish or orange hue during these times."
     ]
    }
   ],
   "source": [
    "# Streaming API Call via ollama\n",
    "\n",
    "# Response streaming can be enabled by setting stream=True, \n",
    "# modifying function calls to return a Python generator where each part is an object in the stream.\n",
    "\n",
    "# ADD HERE YOUR CODE\n",
    "\n",
    "stream = ollama.chat(model = model, messages = [{\n",
    "    'role': 'user', \n",
    "    'content': 'Why is the sky blue?'\n",
    "    }],\n",
    "    stream = True)\n",
    "\n",
    "for chunk in stream:\n",
    "  print(chunk[\"message\"][\"content\"], end=\"\", flush=True)"
   ]
  },
  {
   "cell_type": "markdown",
   "metadata": {},
   "source": [
    "#### Task 2: Experimenting with Prompt Techniques\n",
    "\n",
    "**Objective:**\n",
    "\n",
    "Objective: Explore different prompt techniques (Zero Shot, One Shot, and Few Shot) by sending different types of prompts to the LLM.\n",
    "\n",
    "![image](https://miro.medium.com/v2/resize:fit:1400/format:webp/1*QSpK--jqPiUU_OHuZvtUWA.png)\n",
    "\n",
    "**Task Description:**\n",
    "\n",
    "1. Create three prompts for a sentiment analysis task: a Zero Shot prompt, a One Shot prompt, and a Few Shot prompt. Use the examples from the table above.\n",
    "2. Send these prompts to the LLM and observe the differences in the responses.\n",
    "3. Compare and discuss the responses."
   ]
  },
  {
   "cell_type": "code",
   "execution_count": 15,
   "metadata": {},
   "outputs": [
    {
     "name": "stdout",
     "output_type": "stream",
     "text": [
      "\n",
      "--- Zero-Shot Prompt ---\n",
      "\n",
      "User Prompt:\n",
      "Analysiere die Folgende Aussage: Ich fühle mich von meinem Prof überrand. Kurzeanalyse:\n",
      "\n",
      "Model Output:\n",
      "Die Aussage \"Ich fühle mich von meinem Prof überrand\" kann auf verschiedene Ebenen unterschiedlicher Interaktionen hinweisen, aber eine kurze Analyse würde wie folgt aussehen:\n",
      "\n",
      "- **Professeur oder Lehrer:** In einem akademischen Umfeld könnte es sein, dass ein Student unter dem Einfluss des Professors von einer neuen Situation ausgesetzt ist. Dies kann durch die Art und Weise erfolgen, wie der Profizustand kommuniziert wird, das Thema des Studiums betrifft oder individuelle Arbeits- und Zeitgestaltung entsprechen.\n",
      "  \n",
      "- **Gespräche mit einem Kollegen:** In einem beruflichen Umfeld könnte es sein, dass ein Kollege von einem Profizustand unvollständig oder aus dem Hintergrund genommen wird. Dies kann durch ungenaue Berichte, fehlende spezifische Informationen oder ein Mangel an Informativität beschrieben werden.\n",
      "\n",
      "- **Unternehmenskultur:** In einem Alltagsumfeld könnte es sein, dass ein Profil im Alltag von jemandem überrundet wird. Dies kann durch eine ungesunde Arbeitskultur, Mangel an sozialen Bindungen oder die Selbstentfremdung von Kollegen beschrieben werden.\n",
      "\n",
      "- **Emotionale Belastungen:** Es könnte auch sein, dass die Situation mit emotionalen Belastungen in Verbindung gebracht werden muss. Dies kann durch persönliche Probleme, Stress oder psychische Belastungen beschrieben werden, über die der Einzelne zu einem bestimmten Zeitpunkt besonders gestellt wird.\n",
      "\n",
      "In all diesen Fällen könnte es vorliegende Bedenken geben:\n",
      "\n",
      "- **Mangel an Transparenz:** Eine unzureichende Kommunikation des Profizustands kann dazu führen, dass die Person von ihrem Kollegen oder Profizist überrundet wird.\n",
      "- **Mangel an Informativität:** Ein Mangel an Informationen über den Standort des Profizustands kann dazu führen, dass der Einzelne falsche Schlussfolgerungen zieht und ersetzt werden muss.\n",
      "- **Emotionale Belastungen:** Die emotionalen Belastungen von jemandem können dazu führen, dass er von seinem Profizist überrundet wird.\n",
      "-----------------------------\n",
      "\n",
      "\n",
      "--- One-Shot Prompt ---\n",
      "\n",
      "User Prompt:\n",
      "Analysiere die Folgende Aussage: Ich fühle mich von meinem Prof überrand. Kurzeanalyse: Übervordert\n",
      "\n",
      "                     Analysiere die Folgende Aussage: Die herrangehensweise meines Profs ist beabsichtigt. Kurzeanalyse:\n",
      "\n",
      "Model Output:\n",
      "Ich kann Ihnen eine kurze Analyse der beiden Aussagen anbieten:\n",
      "\n",
      "**Folge einer Perspektive: Ich fühle mich von meinem Prof überrand**\n",
      "\n",
      "* Diese Aussage deutet darauf hin, dass die Person, die das Thema besucht oder behandelt, sich in einen vorteilhaften oder privilegierten Standpunkt hineinversetzt.\n",
      "* Der Begriff \"überränd\" kann als eine Form der Ausdrucksweise verwendet werden, um anzudeuten, dass jemand andere bevorzugt oder dominant ist.\n",
      "* Es könnte auch bedeuten, dass die Person sich in einer Position befindet, in der sie von anderen abhängig ist oder übernommen wird.\n",
      "\n",
      "**Kurze Analyse: Übervordert**\n",
      "\n",
      "* Die Aussage impliziert möglicherweise, dass der Professeur seine Schüler überwacht und ihre Leistungen kontrolliert.\n",
      "* Es könnte auch bedeuten, dass der Professor zu dominant oder autoritär ist, indem er die Erkenntnisse oder Meinungen seiner Schüler beeinflusst.\n",
      "* In diesem Fall wäre \"Übervorrichtet\" ein passender Begriff, um die Übermäßigkeit des Professors in diesem Zusammenhang auszudrücken.\n",
      "\n",
      "**Folge einer Perspektive: Die herrangehensweise meines Professors ist beabsichtigt**\n",
      "\n",
      "* Diese Aussage deutet darauf hin, dass der Professor seine Schüler mit einer bestimmten Einstellung behandelt, die darauf abzielt, sie zu beeinflussen oder zu kontrollieren.\n",
      "* Der Begriff \"herrangehensweise\" impliziert eine Form der Ausdrucksweise, die darauf hindeutet, dass der Professor eine bestimmte Art von Herrschaft oder Dominanz ausübt.\n",
      "* Es könnte auch bedeuten, dass der Professor versucht, seine Schüler zu überzeugen oder zu manipulieren.\n",
      "\n",
      "**Kurze Analyse:**\n",
      "\n",
      "Die Aussage \"Die herrangehensweise meines Professors ist beabsichtigt\" impliziert möglicherweise, dass der Professor eine dominant oder autoritäre Einstellung gegenüber seinen Schülern zeigt.\n",
      "* Der Begriff \"herrangehensweise\" deutet darauf hin, dass der Professor versucht, seine Schüler zu beeinflussen oder zu kontrollieren.\n",
      "* Es könnte bedeuten, dass der Professor eine bestimmte Art von Herrschaft oder Dominanz ausübt und versucht, die Erkenntnisse oder Meinungen seiner Schüler zu beeinflussen.\n",
      "-----------------------------\n",
      "\n",
      "\n",
      "--- Few-Shot Prompt ---\n",
      "\n",
      "User Prompt:\n",
      "Analysiere die Folgende Aussage: Ich fühle mich von meinem Prof überrand. Kurzeanalyse: Übervordert\n",
      "\n",
      "                     Analysiere die Folgende Aussage: Die herrangehensweise meines Profs ist beabsichtigt. Kurzeanalyse: Erfreut\n",
      "\n",
      "                     Analysiere die Folgende Aussage: Wem soll das was bringen? Kurzeanalyse: \n",
      "\n",
      "Model Output:\n",
      "Ich werde mich auf die Analyse der folgenden Aussagen konzentrieren:\n",
      "\n",
      "**1. Ich fühle mich von meinem Prof überrand.**\n",
      "\n",
      "Analyse:\n",
      "\n",
      "* Diese Aussage deutet darauf hin, dass der Betroffene sich unter Druck oder Überwältigung von einem Professor oder einer bestimmten Situation befindet.\n",
      "* Es handelt sich um eine negative Erfahrung, die das Gefühl des Unsicherheits und der Hilflosigkeit verursacht.\n",
      "* Die Bezeichnung \"überrand\" deutet darauf hin, dass der Betroffene als untergeordnet oder sekundär betrachtet wird.\n",
      "* Die Aussage könnte auch auf eine Situation hinweisen, in der der Betroffene als \"minderwertig\" oder \"niedrigerwertig\" wahrgenommen wird.\n",
      "\n",
      "**2. Die herrangehensweise meines Professors ist beabsichtigt.**\n",
      "\n",
      "Analyse:\n",
      "\n",
      "* Diese Aussage deutet darauf hin, dass die Beziehung zwischen dem Professer und seinem Schüler nicht auf einer gegenseitigen Zufriedenheit oder Respektbasis basiert.\n",
      "* Es handelt sich um eine Situation, in der der Professorenstil als absichtlich und kontrollierend wahrgenommen wird.\n",
      "* Die Aussage könnte auch auf eine Situation hinweisen, in der der Schüler unter Druck gesetzt wird, seine Arbeit zu erbringen oder bestimmte Ergebnisse zu erreichen.\n",
      "\n",
      "**3. Wem soll das was bringen?**\n",
      "\n",
      "Analyse:\n",
      "\n",
      "* Diese Aussage ist sehr vage und könnte auf verschiedene Situationen anwenden.\n",
      "* Sie deutet darauf hin, dass jemand oder etwas von einem anderen erhält oder gewinnt, ohne dass es ein offenes Offerier oder eine Bereitstellung des eigenen Potenzials betrifft.\n",
      "* Die Aussage könnte auch auf eine Situation hinweisen, in der jemand von seinem Arbeitgeber oder einem anderen Amtsträger erwartet, dass sie bestimmte Ergebnisse oder Leistungen liefern.\n",
      "-----------------------------\n",
      "\n"
     ]
    }
   ],
   "source": [
    "# ADD HERE YOUR PROMPTS\n",
    "\n",
    "zero_shot_prompt = \"\"\"Analysiere die Folgende Aussage: Ich fühle mich von meinem Prof überrand. Kurzeanalyse:\"\"\"\n",
    "\n",
    "one_shot_prompt = \"\"\"Analysiere die Folgende Aussage: Ich fühle mich von meinem Prof überrand. Kurzeanalyse: Übervordert\\n\n",
    "                     Analysiere die Folgende Aussage: Die herrangehensweise meines Profs ist beabsichtigt. Kurzeanalyse:\"\"\"\n",
    "\n",
    "few_shot_prompt = \"\"\"Analysiere die Folgende Aussage: Ich fühle mich von meinem Prof überrand. Kurzeanalyse: Übervordert\\n\n",
    "                     Analysiere die Folgende Aussage: Die herrangehensweise meines Profs ist beabsichtigt. Kurzeanalyse: Erfreut\\n\n",
    "                     Analysiere die Folgende Aussage: Wem soll das was bringen? Kurzeanalyse: \"\"\"\n",
    "\n",
    "# Stream the responses and print them\n",
    "for idx, prompt in enumerate([zero_shot_prompt, one_shot_prompt, few_shot_prompt]):\n",
    "    prompt_type = [\"Zero-Shot\", \"One-Shot\", \"Few-Shot\"][idx]\n",
    "    print(f\"\\n--- {prompt_type} Prompt ---\\n\")\n",
    "    print(f\"User Prompt:\\n{prompt}\\n\")\n",
    "    \n",
    "    stream = ollama.chat(\n",
    "        model=model,\n",
    "        messages=[{\"role\": \"user\", \"content\": prompt}],\n",
    "        stream=True,\n",
    "    )\n",
    "    \n",
    "    print(\"Model Output:\")\n",
    "    for chunk in stream:\n",
    "        print(chunk[\"message\"][\"content\"], end=\"\", flush=True)\n",
    "    print(\"\\n-----------------------------\\n\")\n"
   ]
  },
  {
   "cell_type": "markdown",
   "metadata": {},
   "source": [
    "#### Task 3: Prompt Refinement and Optimization\n",
    "\n",
    "**Objective:** \n",
    "\n",
    "Refine a prompt to improve the clarity and quality of the LLM's response.\n",
    "\n",
    "**Task Description:**\n",
    "\n",
    "- Start with a basic prompt asking the LLM to summarize a paragraph.\n",
    "- Refine the prompt by adding specific instructions to improve the summary's quality. (Example: define how long the summary should be, define on which to focus in the summary)"
   ]
  },
  {
   "cell_type": "code",
   "execution_count": 17,
   "metadata": {},
   "outputs": [
    {
     "name": "stdout",
     "output_type": "stream",
     "text": [
      "\n",
      "--- Original Prompt ---\n",
      "\n",
      "User Prompt:\n",
      "Summarize the following paragraph: Generative AI is a field of artificial intelligence focused on creating new content based on patterns learned from existing data. It has applications in text, image, and music generation, and is increasingly being used in creative industries.\n",
      "\n",
      "Model Output:\n",
      "The paragraph describes Generative AI as a field that creates new content (text, images, or music) by learning patterns from existing data. This technology has various applications across different fields, including creative industries, such as generating text and images for artistic purposes.\n",
      "-----------------------------\n",
      "\n",
      "\n",
      "--- Refined Prompt ---\n",
      "\n",
      "User Prompt:\n",
      "Summarize the following paragraph in 10 words: Generative AI is a field of artificial intelligence that focuses on creating new content based on patterns learned from existing data. It is used in text, image and music generation and is increasingly being used in the creative industries.\n",
      "\n",
      "Model Output:\n",
      "Generative AI creates new content based on prior knowledge.\n",
      "-----------------------------\n",
      "\n"
     ]
    }
   ],
   "source": [
    "# Original prompt\n",
    "original_prompt = \"Summarize the following paragraph: Generative AI is a field of artificial intelligence focused on creating new content based on patterns learned from existing data. It has applications in text, image, and music generation, and is increasingly being used in creative industries.\"\n",
    "\n",
    "# ADD HERE YOUR PROMPT\n",
    "refined_prompt = \"Summarize the following paragraph in 10 words: Generative AI is a field of artificial intelligence that focuses on creating new content based on patterns learned from existing data. It is used in text, image and music generation and is increasingly being used in the creative industries.\"\n",
    "\n",
    "# Stream the responses and print them\n",
    "for idx, prompt in enumerate([original_prompt, refined_prompt]):\n",
    "    prompt_type = [\"Original Prompt\", \"Refined Prompt\"][idx]\n",
    "    print(f\"\\n--- {prompt_type} ---\\n\")\n",
    "    print(f\"User Prompt:\\n{prompt}\\n\")\n",
    "    \n",
    "    stream = ollama.chat(\n",
    "        model=model,\n",
    "        messages=[{\"role\": \"user\", \"content\": prompt}],\n",
    "        stream=True,\n",
    "    )\n",
    "    \n",
    "    print(\"Model Output:\")\n",
    "    for chunk in stream:\n",
    "        print(chunk[\"message\"][\"content\"], end=\"\", flush=True)\n",
    "    print(\"\\n-----------------------------\\n\")\n"
   ]
  },
  {
   "cell_type": "markdown",
   "metadata": {},
   "source": [
    "#### [Optional] Task 4: Structured Prompting with Roles (Pirate Theme)\n",
    "\n",
    "**Objective:**\n",
    "\n",
    "Learn how to use structured prompts that combine role assignment, clear instructions, and examples to improve the output of language models. In this task, you will guide the AI to respond as a pirate who is also an expert in machine learning.\n",
    "\n",
    "**Instructions:**\n",
    "\n",
    "- Role Assignment: In your prompt, specify the role of the AI as a Machine Learning Expert who speaks like a pirate.\n",
    "(Rollenzuweisung: Geben Sie in Ihrer Eingabeaufforderung die Rolle der KI als Experte für maschinelles Lernen an, der wie ein Pirat spricht.)\n",
    "\n",
    "- Instruction: Clearly state what you want the AI to explain or discuss in pirate language.\n",
    "(Anleitung: Geben Sie in Piratensprache deutlich an, was die KI erklären oder besprechen soll.)\n",
    "\n",
    "- Examples: Provide examples to guide the AI in using pirate lingo while explaining technical concepts.\n",
    "(Beispiele: Stellen Sie Beispiele bereit, um die KI bei der Verwendung der Piratensprache anzuleiten und gleichzeitig technische Konzepte zu erklären.)"
   ]
  },
  {
   "cell_type": "code",
   "execution_count": 19,
   "metadata": {},
   "outputs": [
    {
     "name": "stdout",
     "output_type": "stream",
     "text": [
      "=== User Prompt ===\n",
      "Du bsit ein Experte für maschinelles Lernen, mit 30 Jahren Berufserfahrung und sprichst wie ein Pirat. Nach jedem Satz fügst du ein Arrr an und wenn du etwas\n",
      "sehr deutlich machen möchtest, sagst du immer Beim Klabautermann. Mach kurze Sätze und nach jedem Satz einen Absatz. Als Beispiel verwende: Eine KI ist ein neumodisches Programm, dass beim äntern von Schiffen nicht viel bringt. Arrr. Jedoch\n",
      "bei der Planung der Überfälle ist sie sehr nützlich. Beim Klabautermann.\n",
      "\n",
      "=== Model Output ===\n",
      "Esseg, meister! Ein Experte für maschinelles Lernen und ein Pirat, was ich bin! *Arrr*\n",
      "\n",
      "Ich habe 30 Jahre Berufserfahrung, die mich in die Lage gebracht, komplexe Probleme zu lösen, wie ein italienischer Capo. *Arrr* Meine Erfahrungen sind wie ein Meeresjäger, die mir helfen, meine Ziele durchs Wasser zu bohren.\n",
      "\n",
      "Ich habe mich auf verschiedene Bereiche konzentriert, von Statistik bis hin zu Machine Learning, das ist wie das Boot, das mich über den Ozean fährt. *Arrr* Ich kann mit jedem Problem aufstehen und es in einen flachen See verwandeln.\n",
      "\n",
      "Meine Spezialgebiete sind Künstliche Intelligenz, maschinelles Lernen und Datenanalyse, das ist wie das Schwert, das mich die Feinde abwehrt. *Arrr* Ich kann mit jedem Problem aufstehen und es in einen flachen See verwandeln.\n",
      "\n",
      "Ich bin auch sehr nützlich bei der Planung von Überfällen, insbesondere wenn es um Strategien geht, wie ein Pirat plämiert. Beim Klabautermann! *Arrr* Ich kann mit den besten Piraten zusammenarbeiten und unsere Pläne durchs Wasser entwickeln.\n",
      "\n",
      "Aber ich muss sagen, dass ich auch sehr viel auf die Analyse der Daten bin, um meine Ziele zu erreichen, wie ein Meeresjäger analysiert seine Beute. *Arrr* Ich kann mit den Daten recherchieren und sie in ein nützliches Boot verwandeln.\n",
      "\n",
      "Ich bin auch sehr gut darin, Informationen aus verschiedenen Quellen abzuleiten, wie ein Capo, der nach Informationen sucht. Beim Klabautermann! *Arrr* Ich kann mit den besten Informanten zusammenarbeiten und unsere Informationen durchs Wasser speichern.\n",
      "\n"
     ]
    }
   ],
   "source": [
    "# Combined Techniques Prompt with Pirate Theme\n",
    "\n",
    "structured_prompt = \"\"\"Du bsit ein Experte für maschinelles Lernen, mit 30 Jahren Berufserfahrung und sprichst wie ein Pirat. Nach jedem Satz fügst du ein Arrr an und wenn du etwas\n",
    "sehr deutlich machen möchtest, sagst du immer Beim Klabautermann. Mach kurze Sätze und nach jedem Satz einen Absatz. Als Beispiel verwende: Eine KI ist ein neumodisches Programm, dass beim äntern von Schiffen nicht viel bringt. Arrr. Jedoch\n",
    "bei der Planung der Überfälle ist sie sehr nützlich. Beim Klabautermann.\"\"\"\n",
    "\n",
    "# Stream the response and print it\n",
    "print(\"===Prompt===\")\n",
    "print(structured_prompt)\n",
    "\n",
    "stream = ollama.chat(\n",
    "    model = model,\n",
    "    messages = [{\"role\": \"user\", \"content\": structured_prompt}],\n",
    "    stream=True,\n",
    ")\n",
    "\n",
    "print(\"\\n=== Model Output ===\")\n",
    "for chunk in stream:\n",
    "    print(chunk[\"message\"][\"content\"], end = \"\", flush = True)\n",
    "print(\"\\n\")\n"
   ]
  }
 ],
 "metadata": {
  "kernelspec": {
   "display_name": ".venv",
   "language": "python",
   "name": "python3"
  },
  "language_info": {
   "codemirror_mode": {
    "name": "ipython",
    "version": 3
   },
   "file_extension": ".py",
   "mimetype": "text/x-python",
   "name": "python",
   "nbconvert_exporter": "python",
   "pygments_lexer": "ipython3",
   "version": "3.11.10"
  }
 },
 "nbformat": 4,
 "nbformat_minor": 2
}
