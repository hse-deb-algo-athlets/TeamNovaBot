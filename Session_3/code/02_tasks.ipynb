{
 "cells": [
  {
   "cell_type": "markdown",
   "metadata": {},
   "source": [
    "#### Task 1: Simple vector embedding generation\n",
    "\n",
    "**Objective:**\n",
    "Generate vector embeddings from text data.\n",
    "\n",
    "**Task Description:**\n",
    "\n",
    "- load huggingface embedding model (``model_name=\"sentence-transformers/all-mpnet-base-v2\"``)\n",
    "- embed simple text queries\n",
    "\n",
    "How to select the right embedding model: [MTEB - Massive Text Embedding Benchmark](https://huggingface.co/blog/mteb)\n",
    "\n",
    "**Useful links:**\n",
    "\n",
    "- [Langchain Chroma](https://python.langchain.com/v0.2/docs/integrations/vectorstores/chroma/)\n"
   ]
  },
  {
   "cell_type": "code",
   "execution_count": 1,
   "metadata": {},
   "outputs": [
    {
     "name": "stderr",
     "output_type": "stream",
     "text": [
      "c:\\Users\\sschn\\OneDrive\\Documents\\Studium\\3.Semester\\Technische Informatik\\Chatbot\\TeamNovaBot\\.venv\\Lib\\site-packages\\sentence_transformers\\cross_encoder\\CrossEncoder.py:11: TqdmExperimentalWarning: Using `tqdm.autonotebook.tqdm` in notebook mode. Use `tqdm.tqdm` instead to force console mode (e.g. in jupyter console)\n",
      "  from tqdm.autonotebook import tqdm, trange\n",
      "c:\\Users\\sschn\\OneDrive\\Documents\\Studium\\3.Semester\\Technische Informatik\\Chatbot\\TeamNovaBot\\.venv\\Lib\\site-packages\\transformers\\tokenization_utils_base.py:1601: FutureWarning: `clean_up_tokenization_spaces` was not set. It will be set to `True` by default. This behavior will be depracted in transformers v4.45, and will be then set to `False` by default. For more details check this issue: https://github.com/huggingface/transformers/issues/31884\n",
      "  warnings.warn(\n"
     ]
    }
   ],
   "source": [
    "from langchain_huggingface import HuggingFaceEmbeddings\n",
    "\n",
    "# ADD HERE YOUR CODE\n",
    "embedding_model = ..."
   ]
  },
  {
   "cell_type": "code",
   "execution_count": 2,
   "metadata": {},
   "outputs": [],
   "source": [
    "text = \"This is a test document.\"\n",
    "\n",
    "# ADD HERE YOUR CODE\n",
    "# Perform vector search\n",
    "query_vector = ...\n",
    "\n",
    "print(f\"Embedding vector length: {len(query_vector)}\")\n",
    "print(query_vector[:10])"
   ]
  },
  {
   "cell_type": "markdown",
   "metadata": {},
   "source": [
    "#### Task 2: Generate embedding vectors with custom dataset\n",
    "\n",
    "**Objective:**\n",
    "Load custom dataset, preprocess it and generate vector embeddings.\n",
    "\n",
    "**Task Description:**\n",
    "\n",
    "- load pdf document \"AI_Book.pdf\" via langchain document loader: ``PyPDFLoader``\n",
    "- use RecursiveCharacterTextSplitter to split documents into chunks\n",
    "- generate embeddings for single documents\n",
    "\n",
    "**RecursiveCharacterTextSplitter:**\n",
    "\n",
    "This text splitter is the recommended one for generic text. It is parameterized by a list of characters. It tries to split on them in order until the chunks are small enough. The default list is `[\"\\n\\n\", \"\\n\", \" \", \"\"]`. This has the effect of trying to keep all paragraphs (and then sentences, and then words) together as long as possible, as those would generically seem to be the strongest semantically related pieces of text.\n",
    "\n",
    "**Useful links:**\n",
    "\n",
    "- [Langchain PyPDFLoader](https://api.python.langchain.com/en/latest/document_loaders/langchain_community.document_loaders.pdf.PyPDFLoader.html)\n",
    "- [Langchain RecursiveCharacterTextSplitter](https://api.python.langchain.com/en/latest/character/langchain_text_splitters.character.RecursiveCharacterTextSplitter.html)\n"
   ]
  },
  {
   "cell_type": "code",
   "execution_count": 3,
   "metadata": {},
   "outputs": [],
   "source": [
    "from langchain_community.document_loaders import PyPDFLoader\n",
    "from langchain_text_splitters import RecursiveCharacterTextSplitter\n",
    "import re\n",
    "\n",
    "pdf_doc = \"./AI_Book.pdf\"\n",
    "\n",
    "# Create pdf data loader\n",
    "# ADD HERE YOUR CODE\n",
    "loader = ...\n",
    "\n",
    "# Load and split documents in chunks\n",
    "# ADD HERE YOUR CODE\n",
    "pages_chunked = ...\n",
    "\n",
    "# Function to clean text by removing invalid unicode characters, including surrogate pairs\n",
    "def clean_text(text):\n",
    "    # Remove surrogate pairs\n",
    "    text = re.sub(r'[\\ud800-\\udfff]', '', text)\n",
    "    # Optionally remove non-ASCII characters (depends on your use case)\n",
    "    text = re.sub(r'[^\\x00-\\x7F]+', '', text)\n",
    "    return text\n",
    "\n",
    "pages_chunked_cleaned = [clean_text(chunk.page_content) for chunk in pages_chunked]\n",
    "\n",
    "print(pages_chunked[0])"
   ]
  },
  {
   "cell_type": "code",
   "execution_count": 4,
   "metadata": {},
   "outputs": [],
   "source": [
    "print(pages_chunked[1])"
   ]
  },
  {
   "cell_type": "code",
   "execution_count": 5,
   "metadata": {},
   "outputs": [],
   "source": [
    "print(f\"Number of text chunks: {len(pages_chunked)}\")"
   ]
  },
  {
   "cell_type": "markdown",
   "metadata": {},
   "source": [
    "#### Task 3: Store vector embeddings from pdf document to ChromaDB vector database.\n",
    "\n",
    "**Objective:**\n",
    "\n",
    "Store vector embeddings into ChromaDB to store knowledge.\n",
    "\n",
    "**Task Description:**\n",
    "\n",
    "- create chromadb client\n",
    "- create chromadb collection\n",
    "- create langchain chroma db client\n",
    "- store text document chunks and vector embeddings to vector databases\n",
    "\n",
    "**Useful links:**\n",
    "\n",
    "- [Langchain How To](https://python.langchain.com/v0.2/docs/integrations/vectorstores/chroma/#initialization-from-client)"
   ]
  },
  {
   "cell_type": "code",
   "execution_count": 6,
   "metadata": {},
   "outputs": [],
   "source": [
    "from langchain_chroma import Chroma\n",
    "import chromadb\n",
    "import chromadb\n",
    "from chromadb.config import DEFAULT_TENANT, DEFAULT_DATABASE, Settings\n",
    "\n",
    "client = chromadb.HttpClient(\n",
    "    host=\"localhost\",\n",
    "    port=8000,\n",
    "    ssl=False,\n",
    "    headers=None,\n",
    "    settings=Settings(allow_reset=True, anonymized_telemetry=False),\n",
    "    tenant=DEFAULT_TENANT,\n",
    "    database=DEFAULT_DATABASE,\n",
    ")\n",
    "\n",
    "# ADD HERE YOUR CODE\n",
    "# Create a collection\n",
    "collection = ...\n",
    "\n",
    "# ADD HERE YOUR CODE\n",
    "# Create chromadb\n",
    "vector_db_from_client = Chroma(...)"
   ]
  },
  {
   "cell_type": "code",
   "execution_count": 7,
   "metadata": {},
   "outputs": [
    {
     "data": {
      "text/plain": [
       "['ce1cee73-6a7f-4fa6-81ad-30a5a4ef6fd3',\n",
       " 'f212b042-aa4a-497a-9927-95c1ee22c71e',\n",
       " 'f35d603c-645a-490c-ae6a-3272f69c08d7',\n",
       " '4002aaf9-bcdf-47c8-bea3-27e61c4b8853',\n",
       " 'ebdf6f60-25db-4f23-95ef-f6be13f8a3dd',\n",
       " '82b4772c-6da3-4dee-a681-c928aeec9e5c',\n",
       " '2f6dcdd0-cdf6-41b6-8c9d-8353355853f6',\n",
       " 'bdbf3ed4-4d6f-4bde-a0d1-2fa7e0f39fe8',\n",
       " '9938421e-6d28-4aa9-9128-3bc08b569faf',\n",
       " '04c404b4-6ea5-47d1-99a7-f4064e472eb7',\n",
       " '63eceb8b-14d8-4608-bfec-3952e4e98f53',\n",
       " '716839b7-bf31-4b92-8bd3-d4e69a1dd259',\n",
       " '0aa96591-4bb3-4696-805b-9c18deedc764',\n",
       " 'ce6d1790-08bf-454b-8974-5b6d91d74a2e',\n",
       " '0242631b-6ef5-4c21-a267-3a614047d0bc',\n",
       " '07624a6b-5d4c-406e-a8c2-d51ec60121a6',\n",
       " '7f165c01-b854-4899-85fa-9a3ed6f95c57',\n",
       " '0ffd32c8-9f0e-4213-a20d-5cbe4b27f296',\n",
       " '0187cf9c-56ab-46cf-aa1b-85f0f71f8254',\n",
       " '451ad91a-57ff-4dbb-a408-443f68eccb47',\n",
       " '5c5001e1-31f5-4f70-8ca9-a485d862af78',\n",
       " 'fbba6ebd-5be1-46ab-a00a-b727dbe61a7d',\n",
       " '19a685aa-8fbd-4169-8698-bd9e92748c52',\n",
       " 'e502a974-1502-44f7-ac14-a7c6617d9ce8',\n",
       " 'dba1a416-34a7-4f96-89de-de4fd754e59f',\n",
       " 'c8df967e-a2d7-4c2a-a456-30f0e8040e1e',\n",
       " '9003b886-26f7-4ced-bf46-64010262ebe0',\n",
       " '58dff845-a6ae-4ce4-8c4e-f43648a1a1e6',\n",
       " '318f64a8-49ec-4e51-a570-f89614ff5fe4',\n",
       " '70ce2b86-d582-47ab-9272-e027474dc482',\n",
       " '144a361a-c25a-4fa3-9475-9adb34410ad9',\n",
       " '37e407f5-943c-4be9-be0d-3a896d2bde12',\n",
       " '25cdb0ed-be70-44c6-8d20-9e4d090f0bc3',\n",
       " '8cc6fb8e-7f2b-4dca-8c79-ea4f989f5903',\n",
       " 'e3458a52-d2de-4edd-a04d-58b8797f7194',\n",
       " '2860520c-ccf1-44d8-8cbf-3a0b4b3fdf9c',\n",
       " 'd8fc2a9d-8c9c-41b9-ae23-b3cd51e67ad8',\n",
       " '106b19f3-9916-4c9f-bb68-20fd458a1d54',\n",
       " 'e60e192c-6ed3-43d3-8a40-26afdccae233',\n",
       " 'e1c15415-0817-4475-9403-ef8aef7b1f13',\n",
       " '3aecebfb-f2d1-4a68-912f-b7fab76e82d7',\n",
       " 'cc72c292-94ac-4c26-8c75-c550be791efe',\n",
       " 'c4545a22-4765-4b8a-9cd5-5d449415df0c',\n",
       " 'f8258dc5-faa0-4b81-98a6-825400e4b540',\n",
       " 'dafe90e7-af47-4fa5-a285-869b86c605b9',\n",
       " 'f370b4c1-372a-4d51-9fba-eb95076c5d24',\n",
       " '78fc1d0a-22ff-4aff-ba3f-34b0c28ddb2a',\n",
       " 'fd4419a9-0cef-4f19-8b1b-abb951e7e393',\n",
       " 'bb4cd295-e71b-4b14-8953-cd8cf636e087',\n",
       " '10a9e000-394e-475d-a6ad-67ed9ba23947']"
      ]
     },
     "execution_count": 7,
     "metadata": {},
     "output_type": "execute_result"
    }
   ],
   "source": [
    "from uuid import uuid4\n",
    "\n",
    "uuids = [str(uuid4()) for _ in range(len(pages_chunked[:50]))]\n",
    "\n",
    "# ADD HERE YOUR CODE\n",
    "vector_db_from_client.add_documents(...)"
   ]
  },
  {
   "cell_type": "code",
   "execution_count": 8,
   "metadata": {},
   "outputs": [
    {
     "data": {
      "text/plain": [
       "1"
      ]
     },
     "execution_count": 8,
     "metadata": {},
     "output_type": "execute_result"
    }
   ],
   "source": [
    "client.count_collections()"
   ]
  },
  {
   "cell_type": "code",
   "execution_count": 89,
   "metadata": {},
   "outputs": [],
   "source": [
    "# client.delete_collection(\"ai_model_book\")"
   ]
  },
  {
   "cell_type": "markdown",
   "metadata": {},
   "source": [
    "#### Task 4: Access ChromaDB and perform vector search\n",
    "\n",
    "**Objective:**\n",
    "\n",
    "Use query to perform vector search against ChromaDB vector database\n",
    "\n",
    "**Task Description:**\n",
    "\n",
    "- define query\n",
    "- run vector search\n",
    "- print k=3 most similar documents\n",
    "\n",
    "\n",
    "**Useful links:**\n",
    "\n",
    "- [Langchain Query ChromaDB](https://python.langchain.com/v0.2/docs/integrations/vectorstores/chroma/#query-directly)"
   ]
  },
  {
   "cell_type": "code",
   "execution_count": 9,
   "metadata": {},
   "outputs": [
    {
     "name": "stdout",
     "output_type": "stream",
     "text": [
      "Types of Machine Learning Systems\n",
      "There are so many different types of Machine Learning systems that it is useful to\n",
      "classify them in broad categories based on:\n",
      "Whether or not they are trained with human supervision (supervised, unsuper\n",
      "vised, semisupervised, and Reinforcement Learning)\n",
      "Whether or not they can learn incrementally on the fly (online versus batch\n",
      "learning)\n",
      "Whether they work by simply comparing new data points to known data points,\n",
      "or instead detect patterns in the training data and build a predictive model, much\n",
      "like scientists do (instance-based versus model-based learning)\n",
      "These criteria are not exclusive; you can combine them in any way you like. For\n",
      "example, a state-of-the-art spam filter may learn on the fly using a deep neural net\n",
      "work model trained using examples of spam and ham; this makes it an online, model-\n",
      "based, supervised learning system.\n",
      "Lets look at each of these criteria a bit more closely.\n",
      "Supervised/Unsupervised Learning\n",
      "Machine Learning systems can be classified according to the amount and type of\n",
      "supervision they get during training. There are four major categories: supervised\n",
      "learning, unsupervised learning, semisupervised learning, and Reinforcement Learn\n",
      "ing.\n",
      "Supervised learning\n",
      "In supervised learning , the training data you feed to the algorithm includes the desired\n",
      "solutions, called labels  (Figure 1-5 ).\n",
      "Figure 1-5. A labeled training set for supervised learning (e.g., spam classification)\n",
      "8 | Chapter 1: The Machine Learning Landscape\n",
      "{'page': 33, 'source': './AI_Book.pdf'}\n",
      "\n",
      "\n",
      "Figure 1-12. Reinforcement Learning\n",
      "For example, many robots implement Reinforcement Learning algorithms to learn\n",
      "how to walk. DeepMinds AlphaGo program is also a good example of Reinforcement\n",
      "Learning: it made the headlines in May 2017 when it beat the world champion Ke Jie\n",
      "at the game of Go. It learned its winning policy by analyzing millions of games, and\n",
      "then playing many games against itself. Note that learning was turned off during the\n",
      "games against the champion; AlphaGo was just applying the policy it had learned.\n",
      "Batch and Online Learning\n",
      "Another criterion used to classify Machine Learning systems is whether or not the\n",
      "system can learn incrementally from a stream of incoming data.\n",
      "Batch learning\n",
      "In batch learning , the system is incapable of learning incrementally: it must be trained\n",
      "using all the available data. This will generally take a lot of time and computing\n",
      "resources, so it is typically done offline. First the system is trained, and then it is\n",
      "launched into production and runs without learning anymore; it just applies what it\n",
      "has learned. This is called offline  learning .\n",
      "If you want a batch learning system to know about new data (such as a new type of\n",
      "spam), you need to train a new version of the system from scratch on the full dataset\n",
      "(not just the new data, but also the old data), then stop the old system and replace it\n",
      "with the new one.\n",
      "Fortunately, the whole process of training, evaluating, and launching a Machine\n",
      "Learning system can be automated fairly easily (as shown in Figure 1-3 ), so even a\n",
      "Types of Machine Learning Systems | 15\n",
      "{'page': 40, 'source': './AI_Book.pdf'}\n",
      "\n",
      "\n",
      "Figure 1-15. Instance-based learning\n",
      "Model-based learning\n",
      "Another way to generalize from a set of examples is to build a model of these exam\n",
      "ples, then use that model to make predictions . This is called model-based learning\n",
      "(Figure 1-16 ).\n",
      "Figure 1-16. Model-based learning\n",
      "For example, suppose you want to know if money makes people happy, so you down\n",
      "load the Better Life Index  data from the OECDs website  as well as stats about GDP\n",
      "per capita from the IMFs website . Then you join the tables and sort by GDP per cap\n",
      "ita. Table 1-1  shows an excerpt of what you get.\n",
      "Types of Machine Learning Systems | 19\n",
      "{'page': 44, 'source': './AI_Book.pdf'}\n",
      "\n",
      "\n"
     ]
    }
   ],
   "source": [
    "search_query = \"Types of Machine Learning Systems\"\n",
    "\n",
    "results = vector_db_from_client.similarity_search(...)\n",
    "\n",
    "for res in results:\n",
    "    print(res.page_content)\n",
    "    print(res.metadata)\n",
    "    print(\"\\n\")"
   ]
  }
 ],
 "metadata": {
  "kernelspec": {
   "display_name": ".venv",
   "language": "python",
   "name": "python3"
  },
  "language_info": {
   "codemirror_mode": {
    "name": "ipython",
    "version": 3
   },
   "file_extension": ".py",
   "mimetype": "text/x-python",
   "name": "python",
   "nbconvert_exporter": "python",
   "pygments_lexer": "ipython3",
   "version": "3.11.9"
  }
 },
 "nbformat": 4,
 "nbformat_minor": 2
}
